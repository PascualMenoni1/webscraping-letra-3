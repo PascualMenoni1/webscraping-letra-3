{
 "cells": [
  {
   "metadata": {},
   "cell_type": "markdown",
   "source": "## Importar librerias"
  },
  {
   "metadata": {
    "ExecuteTime": {
     "end_time": "2025-09-24T02:44:14.053299Z",
     "start_time": "2025-09-24T02:44:14.047607Z"
    }
   },
   "cell_type": "code",
   "source": [
    "import requests\n",
    "from bs4 import BeautifulSoup\n",
    "import json"
   ],
   "outputs": [],
   "execution_count": 89
  },
  {
   "metadata": {},
   "cell_type": "markdown",
   "source": "## Ciudades y urls"
  },
  {
   "metadata": {
    "ExecuteTime": {
     "end_time": "2025-09-24T02:44:14.079880Z",
     "start_time": "2025-09-24T02:44:14.073161Z"
    }
   },
   "cell_type": "code",
   "source": [
    "ciudades_urls = {\n",
    "    \"Montevideo\": \"https://www.gallito.com.uy/inmuebles/venta/casas/montevideo\",\n",
    "    \"Punta del Este\": \"https://www.gallito.com.uy/inmuebles/venta/casas/punta-del-este\",\n",
    "    \"Salto\": \"https://www.gallito.com.uy/inmuebles/venta/casas/salto\"\n",
    "}"
   ],
   "outputs": [],
   "execution_count": 90
  },
  {
   "metadata": {},
   "cell_type": "markdown",
   "source": "## Función para scrapear propiedades"
  },
  {
   "metadata": {
    "ExecuteTime": {
     "end_time": "2025-09-24T02:44:14.096662Z",
     "start_time": "2025-09-24T02:44:14.087867Z"
    }
   },
   "cell_type": "code",
   "source": [
    "def scrapear_propiedades(url, max_propiedades=10):\n",
    "    propiedades = []\n",
    "    try:\n",
    "        response = requests.get(url)\n",
    "        soup = BeautifulSoup(response.text, \"html.parser\")\n",
    "\n",
    "        anuncios = soup.find_all(\"div\", class_=\"property-item\")[:max_propiedades]\n",
    "\n",
    "        for anuncio in anuncios:\n",
    "            try:\n",
    "                precio = anuncio.find(\"span\", class_=\"price\").text.strip()\n",
    "            except:\n",
    "                precio = None\n",
    "            try:\n",
    "                tamano = anuncio.find(\"span\", class_=\"size\").text.strip()\n",
    "            except:\n",
    "                tamano = None\n",
    "            try:\n",
    "                habitaciones = anuncio.find(\"span\", class_=\"rooms\").text.strip()\n",
    "            except:\n",
    "                habitaciones = None\n",
    "            try:\n",
    "                link = anuncio.find(\"a\")[\"href\"]\n",
    "            except:\n",
    "                link = None\n",
    "\n",
    "            propiedades.append({\n",
    "                \"precio\": precio,\n",
    "                \"tamano\": tamano,\n",
    "                \"habitaciones\": habitaciones,\n",
    "                \"link\": link\n",
    "            })\n",
    "    except:\n",
    "        pass\n",
    "\n",
    "    return propiedades"
   ],
   "outputs": [],
   "execution_count": 91
  },
  {
   "metadata": {},
   "cell_type": "markdown",
   "source": "## Ejecuto scraping y guardo en JSON"
  },
  {
   "metadata": {
    "ExecuteTime": {
     "end_time": "2025-09-24T02:44:15.947581Z",
     "start_time": "2025-09-24T02:44:14.104544Z"
    }
   },
   "cell_type": "code",
   "source": [
    "datos_finales = {\"ciudades\": []}\n",
    "\n",
    "for ciudad, url in ciudades_urls.items():\n",
    "    propiedades = scrapear_propiedades(url)\n",
    "    datos_finales[\"ciudades\"].append({\n",
    "        \"nombre\": ciudad,\n",
    "        \"propiedades\": propiedades\n",
    "    })\n",
    "\n",
    "with open(\"propiedades.json\", \"w\", encoding=\"utf-8\") as f:\n",
    "    json.dump(datos_finales, f, ensure_ascii=False, indent=2)"
   ],
   "outputs": [],
   "execution_count": 92
  }
 ],
 "metadata": {
  "kernelspec": {
   "display_name": "Python 3",
   "language": "python",
   "name": "python3"
  },
  "language_info": {
   "name": "python",
   "version": "3.12.1"
  }
 },
 "nbformat": 4,
 "nbformat_minor": 2
}
